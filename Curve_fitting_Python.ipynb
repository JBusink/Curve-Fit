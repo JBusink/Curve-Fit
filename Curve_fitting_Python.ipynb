{
 "cells": [
  {
   "cell_type": "markdown",
   "metadata": {},
   "source": [
    "# General information\n",
    " * Author: Joris Busink, Junior Teacher Physics Education.\n",
    " * Date: Fri, 4th Nov.\n",
    " * About: Data-analysis and data-visualization using Python 3.\n",
    "\n",
    " For questions and suggestions please email:<br>\n",
    " J.Busink@vu.nl.<br>\n",
    " [Github](https://github.com/JBusink/Curve-Fit)"
   ]
  },
  {
   "cell_type": "markdown",
   "metadata": {},
   "source": [
    "## Structure of the notebook\n",
    "#### Example 1, Curve_fit:<br>\n",
    "<a href='#LoadPackages'> 1. Load packages.</a><br>\n",
    "<a href='#model'> 2. Model and mock data.</a><br>\n",
    "<a href='#plot'> 3. Plot data.</a><br>\n",
    "<a href='#fit'> 4. Fit data to model.</a><br>\n",
    "<a href='#residuals'> 5. Plot residuals.</a><br>\n",
    "<a href='#chisq'> 6. Calculate (reduced) $\\chi^2$.</a><br>\n",
    "<a href='#confidenceintervals'> 7. Extra: confidence intervals.</a><br>\n",
    "\n",
    "#### Example 2, Lmfit:<br>\n",
    "<a href='#lmfit'> 8. Example: Lmfit.</a><br>"
   ]
  },
  {
   "cell_type": "markdown",
   "metadata": {},
   "source": [
    "# Example: Analysis of a pendulum (SHO)"
   ]
  },
  {
   "cell_type": "markdown",
   "metadata": {},
   "source": [
    "## Load packages <a id='LoadPackages'></a>\n",
    "I load the following packages: \n",
    "* [Numpy](https://numpy.org), numerical Python.<br> \n",
    "* [Matplotlib](https://matplotlib.org).pyplot, for creating static, animated, and interactive visualizations in Python.<br>\n",
    "* [Pandas](https://pandas.pydata.org). A fast and efficient library to handle DataFrame objects.<br>"
   ]
  },
  {
   "cell_type": "code",
   "execution_count": 4,
   "metadata": {},
   "outputs": [],
   "source": [
    "import numpy as np\n",
    "import matplotlib.pyplot as plt\n",
    "import pandas as pd\n",
    "\n",
    "np.set_printoptions(precision=4,threshold =9,suppress=True)  #Compact display."
   ]
  },
  {
   "cell_type": "markdown",
   "metadata": {},
   "source": [
    "## Pendulum model and mock data<a id='model'></a>\n",
    "<!-- ![Simple Pendulum](Pendulum_theory_100dpi.png)<br> -->"
   ]
  },
  {
   "cell_type": "markdown",
   "metadata": {},
   "source": [
    "![Simple Pendulum](https://raw.githubusercontent.com/JBusink/Curve-Fit/main/Figures/Pendulum_theory_100dpi.png \"Pendulum\")<br>\n",
    "A schematic representation of a damped pendulum is shown in the figure above. <br>\n",
    "<br> -->\n",
    "<!-- <br>\n",
    "<br>\n",
    "We are interested in x-position of the pendulum as a function of time. For abitrary (starting) angle $\\theta(t)$ the system has a non-linear response.<br> \n",
    "However, for small angles we can approximate $\\sin(\\theta(t)) \\approx \\theta$ and we have a linear system, thus:\n",
    "\n",
    "\\begin{equation}\n",
    "    x(t) = Ae^{-\\gamma t}\\sin(\\omega t)\n",
    "    \\tag{1}\n",
    "\\end{equation}\n",
    "\n",
    "The harmonic response is given by $\\sin(\\omega t)$, with $\\omega^2 = \\frac{g}{l}$. A is the amplitude of the oscillation.<br>\n",
    "$g$ the gravitational acceleration and $l$ the length of the cord. The damping term is modelled <br>\n",
    "by an exponential decay $e^{-\\gamma t}$, with $\\gamma$ a damping constant. <br>\n",
    "\n",
    "To start of, I create a mock-data set using the model of the simple pendulum (equation 1). <br>\n",
    "The x-data is an array (a <em>'list'</em> that allows nummerical manipulations) that represents the time-domain of the oscillator that ranges from 0 to 10, with $\\delta t$ = 0.2. <br>\n",
    "The y-data is the x-position of the oscillator, we create this by evaluating the Simple Harmonic Oscillator model function using the following input parameters: <br>\n",
    "\n",
    "\\begin{equation}\n",
    "    x(t) = 2e^{-0.2t}\\sin(3t)+0.2\\sqrt{t}\\zeta(t).\n",
    "    \\tag{2}\n",
    "\\end{equation}\n",
    "\n",
    "I included a stochastic term, $0.2\\sqrt{t}\\zeta(t)$, to make our data non-ideal/noisy. $\\zeta(t)$ is a random uniform number (float) from -1 to 1. The exact details of the process are not important.\n",
    "\n",
    "* Line 1: create random seed (to replicate noise).\n",
    "\n",
    "* Line 3-4: generate t-data and yxdata.\n",
    "\n",
    "* Line 5-6: noise in t-data and x-data."
   ]
  },
  {
   "cell_type": "code",
   "execution_count": 5,
   "metadata": {},
   "outputs": [],
   "source": [
    "np.random.seed(2) #initialize random number generator seed.\n",
    "\n",
    "t = np.arange(0,10.2,0.2) # t-axis data, an array ('list') from [0,0.2...9.8, 10],\n",
    "# this is equivalent to: t = np.array([ 0.,0.2 , 0.4 , ... , 9.8 ,  10.0])\n",
    "x = 2*np.exp(-0.2*t)*np.sin(3*t) + 0.2*np.sqrt(t)*np.random.uniform(-1,1,len(t)) # x-axis data.\n",
    "terr = 0.1 # constant error in time.\n",
    "xerr = 0*t +0.2 # The error in x-position, please note that the shape of xerr must be of the same size as x."
   ]
  },
  {
   "cell_type": "markdown",
   "metadata": {},
   "source": [
    "### Digital data\n",
    "In case our data is only digital available (for example, as a .csv file), <br>\n",
    "on option is to import the data as a DataFrame (df):<br>\n",
    "\n",
    "df = pd.read_csv('path\\\\to\\\\data.csv', delimiter='fill_in') [Read_csv](https://pandas.pydata.org/docs/reference/api/pandas.read_csv.html).\n",
    "\n",
    "Another options is to use Numpy [genfromtxt](https://numpy.org/doc/stable/reference/generated/numpy.genfromtxt.html):<br>\n",
    "data = genfromtxt('my_file.csv', delimiter=',')"
   ]
  },
  {
   "cell_type": "markdown",
   "metadata": {},
   "source": [
    "## plot the data<a id='plot'></a>"
   ]
  },
  {
   "cell_type": "markdown",
   "metadata": {},
   "source": [
    "In the next lines of code I plot the data. \n",
    "Our data is 2 dimensional (x,y) and contains errors, so we use an errorbar plot. \n",
    "\n",
    "* Line 1: create 1 figure (1 row and 1 column). [Figure documentation](https://matplotlib.org/stable/gallery/subplots_axes_and_figures/subplots_demo.html)\n",
    "\n",
    "* Line 2: plot data using an errorbarplot. [Errorbar documentation](https://matplotlib.org/stable/api/_as_gen/matplotlib.pyplot.errorbar.html)\n",
    "\n",
    "* Line 3-8: optional commands."
   ]
  },
  {
   "cell_type": "code",
   "execution_count": 6,
   "metadata": {},
   "outputs": [
    {
     "data": {
      "image/png": "[encoded data removed]",
      "text/plain": [
       "<Figure size 576x288 with 1 Axes>"
      ]
     },
     "metadata": {
      "needs_background": "light"
     },
     "output_type": "display_data"
    }
   ],
   "source": [
    "fig, axes = plt.subplots(1,1,figsize=(8,4)) #Creates a single figure with dimensions (12 by 6 (inch))\n",
    "axes.errorbar(t,x,xerr=terr,yerr=xerr,fmt='none',ecolor='black',capsize=4,elinewidth=1)\n",
    "axes.set_title('Damped harmonic motion', fontsize=18)\n",
    "axes.set_xlabel('time (s)',fontsize=16)\n",
    "axes.set_ylabel('x-position (m)',fontsize=16)\n",
    "axes.set_xlim(np.min(t),np.max(t))\n",
    "axes.set_ylim(-2.5,2.5)\n",
    "plt.show()"
   ]
  },
  {
   "cell_type": "markdown",
   "metadata": {},
   "source": [
    "## Fit data to model<a id='fit'></a>"
   ]
  },
  {
   "cell_type": "markdown",
   "metadata": {},
   "source": [
    "We want to fit our model, equation 1, to our data, we use the scipy.optimize libary, and in particular<br>\n",
    "we use the Curve_fit function. \n",
    "\n",
    "* Line 1-2: Here we define our model (sinus_model()) using a Python function: a function starts with <em>def</em> and ends with <em>return</em>.<br>\n",
    "Sinus_model() is our user defined model based on the theory. We vary the time coordinate (the independent variable, t) and the<br> parameters ($x_0$, A, $\\omega$ and $\\phi$) are determined by a fit.<br> \n",
    "Be careful that the independent variable (t) must appear<em> before </em> the parameters, otherwise an error message will appear.<br>\n",
    "\n",
    "* Line 4: Apply a fit using the curve_fit function. [Curve_fit documentation](https://docs.scipy.org/doc/scipy/reference/generated/scipy.optimize.curve_fit.html)<br>\n",
    "\n",
    " <em>Curve_fit</em> asks for a minimum of three input arguments: (model, independent variable (time), dependent variable (x-coordinate)), more input arguments are optional.<br> \n",
    "In our case, I provide an initial guess of the optimal parameters ($p_0$). Other options include: bounds, weights, method, etc. <br>\n",
    "Note that providing a good initial guess of $p_0$ and apply parameter bounds significantly reduces the complexity of finding the optimal parameters, if possible, provided them!<br>\n",
    "<br>\n",
    "The output of <em>Curve_fit</em> are the optimal parameters <em>popt</em> and the covariance matrix $\\mathcal{K_{p_i p_j}}$ <em>pcov</em>, where $\\mathcal{K_{p_i p_j}}$ is defined as: <br>\n",
    "\n",
    "\\begin{equation}\n",
    "    \\mathcal{K_{p_i p_j}}= \\begin{bmatrix} s_{p_a p_a} & s_{p_b p_a} \\\\ s_{p_a p_b} & s_{p_b p_b} \\end{bmatrix}\n",
    "    \\tag{2}\n",
    "\\end{equation}\n",
    "\n",
    "For example, $s_{p_a p_a}$ is the (co)variance of parameter a. To obtain the standard deviation $\\sigma_{a}$ of parameter a we take the square root of the variance:\n",
    "\n",
    "\\begin{equation}\n",
    "    \\sigma_{a} = \\sqrt{s_{p_a p_a}}\n",
    "    \\tag{3}\n",
    "\\end{equation} \n",
    "\n",
    "* Line 6-8: Show the optimal fit values and corresponding standard deviations. <br>"
   ]
  },
  {
   "cell_type": "code",
   "execution_count": 7,
   "metadata": {},
   "outputs": [
    {
     "name": "stdout",
     "output_type": "stream",
     "text": [
      "The optimal value for  Amplitude (m) is: 2.0380 ± 0.144019\n",
      "The optimal value for  Gamma (1/s) is: 0.2198 ± 0.023873\n",
      "The optimal value for  Frequency (rad/s) is: 2.9934 ± 0.022534\n",
      "The optimal value for  phase (rad) is: -0.0094 ± 0.063073\n"
     ]
    }
   ],
   "source": [
    "from scipy.optimize import curve_fit\n",
    "\n",
    "def sinus_model(t,A,gamma,omega,phi):\n",
    "    return A*np.exp(-gamma*t)*np.sin(omega*t+phi)\n",
    "\n",
    "popt, pcov = curve_fit(sinus_model,t,x,sigma = xerr,p0=[1,0.1,4.12,0.5])\n",
    "\n",
    "parameter=['Amplitude (m)','Gamma (1/s)', 'Frequency (rad/s)', 'phase (rad)']\n",
    "for i in range (4):\n",
    "    print(\"The optimal value for \", parameter[i], 'is:', \"{:.4f}\".format(popt[i]), '\\u00B1', \"{:.6f}\".format(np.sqrt(pcov[i,i])))"
   ]
  },
  {
   "cell_type": "markdown",
   "metadata": {},
   "source": [
    "* Line 10-15: Make figure, plot the data (black) and the fit (orange).<br>\n",
    "\n",
    "We plot the fit by making a new dataset, called tfit. We evaluate the the function using the optimal parameters at the values of tfit.\n",
    "\n",
    "* Line 17-25: Optional commands. <br>\n",
    "\n",
    "* Line 27-28: Save the figure.<br> \n",
    "\n",
    "Note that the figure is saved as a .svg extension. A .svg extension stands for Scalable Vector Image, the image is saved as an object (and not as a collection of pixels). <br>\n",
    "One can import .svg picture in e.g. inkscape, powerpoint or adobe photoshop to manipulate these, try it!<br>"
   ]
  },
  {
   "cell_type": "code",
   "execution_count": 8,
   "metadata": {},
   "outputs": [
    {
     "data": {
      "image/png": "[encoded data removed]",
      "text/plain": [
       "<Figure size 576x288 with 1 Axes>"
      ]
     },
     "metadata": {
      "needs_background": "light"
     },
     "output_type": "display_data"
    }
   ],
   "source": [
    "tfit = np.linspace(0,max(t),1000) #create new data for fit.\n",
    "\n",
    "#Plot data + fit        \n",
    "fig,axes=plt.subplots(1,1,figsize=(8,4),sharex=True,sharey=True)\n",
    "axes.plot(tfit,sinus_model(tfit,*popt), color ='darkorange', lw = 4,zorder =1) #plot fit\n",
    "axes.errorbar(t,x,xerr=terr,yerr=xerr,fmt='none',ecolor='black',capsize=4,elinewidth=1) \n",
    "\n",
    "#plot axis labels and limits\n",
    "axes.set_title('Example fit using Curve_fit of a simple pendulum',fontsize=18)\n",
    "axes.set_xlabel('time (s)',fontsize=16)\n",
    "axes.set_ylabel('x-position (m)',fontsize=16)\n",
    "axes.set_xlim(0,10)\n",
    "\n",
    "#Some plot settings\n",
    "axes.tick_params(direction=\"in\",labelsize=12,bottom = True,top = True,left= True,right=True) #inward direction of tick-lines\n",
    "plt.tight_layout() #creates optimal padding levels for figure (especially usefull for side-by-side figures)\n",
    "\n",
    "# location='Path' #Path to your prefered location, e.g. User/Downloads/\n",
    "# plt.savefig(location+'simple_pendulum.svg') #Extension can be .png/.jpg/.etc or .svg/.pdf (Vector Image)\n",
    "\n",
    "plt.show()"
   ]
  },
  {
   "cell_type": "markdown",
   "metadata": {},
   "source": [
    "## Optional: Residuals <a id='residuals'></a>"
   ]
  },
  {
   "cell_type": "markdown",
   "metadata": {},
   "source": [
    "In the previous section we fit a model to our data. As expected, the sinusoidal model captures the data very well.<br>\n",
    "\n",
    "However, we might also be interested in the limitations of the model. To spot these limitations can be cumbersome,<br> \n",
    "a elegant strategy is to calculate the difference between the data and the fit: the residuals.<br>\n",
    "To visualize the residuals I will make an extra figure above the main panel. I use [gridspec](https://matplotlib.org/stable/api/_as_gen/matplotlib.gridspec.GridSpec.html) to create this extra panel.<br>\n",
    "Using gridspec we can make two (or more) subfigures, a main figure and a sub (residuals) figure.<br>\n",
    "In the main figure I plot the data and optimal fit. In the residuals plot I plot the difference between the data and the fit, <br>the <em>residuals</em> $\\epsilon$ of the data:\n",
    "\n",
    "\\begin{equation}\n",
    "    \\epsilon = y_{data}-y_{model}.\n",
    "    \\tag{4}\n",
    "\\end{equation}\n",
    "\n",
    "The residual plot shows valuable information. For example, a systematic pattern in the residuals tells us that our model cannot capture the full data.<br>\n",
    "In principle, when a systematic pattern  in the residuals is visible, we should modify our model. \n",
    "\n",
    "For a more extensive discussion about the meaning of a residual I refer to chapter 4.2 in An Introduction to Error Analysis, by John R. Taylor."
   ]
  },
  {
   "cell_type": "code",
   "execution_count": 18,
   "metadata": {},
   "outputs": [],
   "source": [
    "import matplotlib.gridspec as gridspec\n",
    "\n",
    "fig = plt.figure(figsize=(8,8))\n",
    "gs = gridspec.GridSpec(4, 4) #Creates a grid of 4 rows and 4 columns.\n",
    "axes_main = plt.subplot(gs[1:4, :4]) #Main axis goes from row 1 to 4.\n",
    "axes_residuals = plt.subplot(gs[0, :4],sharex=axes_main) #Residual axis is row 0.\n",
    "\n",
    "axes_main.plot(tfit,sinus_model(tfit,*popt),color='darkorange', lw=4)\n",
    "axes_main.errorbar(t,x,xerr=terr,yerr=xerr,fmt='none',ecolor='black',capsize=4,elinewidth=1)\n",
    "\n",
    "axes_main.set_xlabel('Time (s)',fontsize=16)\n",
    "axes_main.set_ylabel('X-position (m)',fontsize=16)\n",
    "axes_main.set_xlim(0,10)\n",
    "axes_main.tick_params(axis='both',direction ='in',labelsize=12)\n",
    "\n",
    "axes_residuals.errorbar(t,x-sinus_model(t,*popt),xerr=terr,yerr=xerr,fmt='none',ecolor='black'\n",
    "                        ,capsize=4,elinewidth=1)\n",
    "\n",
    "axes_residuals.tick_params(axis='both',direction ='in',labelsize=12)\n",
    "axes_residuals.hlines(0,np.min(t),np.max(t),color='black')\n",
    "axes_residuals.set_ylabel(r'$\\epsilon$ (m)',fontsize=16)\n",
    "axes_residuals.set_xlim(0,10)\n",
    "\n",
    "plt.tight_layout()\n",
    "# plt.show()\n",
    "plt.close()"
   ]
  },
  {
   "cell_type": "markdown",
   "metadata": {},
   "source": [
    "## reduced $\\chi^2$ <a id='chisq'></a>"
   ]
  },
  {
   "cell_type": "markdown",
   "metadata": {},
   "source": [
    "In the previous figure we observed that our fit captures the data nicely. In the residuals we observe that after t $\\approx$ 7 s,<br>\n",
    "the noise starts to dominate. We quantify the deviation between the observed and expected data using a $\\chi^2$ analysis: <br>\n",
    "\n",
    "\\begin{equation}\n",
    "    \\chi^2 = \\sum_{1}^{N}\\frac{(y_i-f(x_i))^2}{\\sigma_i^2}=\\sum_{1}^{N}\\frac{\\epsilon_i^2}{\\sigma_i^2}. \n",
    "    \\tag{5}\n",
    "\\end{equation}\n",
    "\n",
    "$\\sigma_{i}$ is the standard deviation 'error' on the observed datapoint $y_i$. \n",
    "Lastly, we should correct for the number of <em>degrees of freedom</em>. <br>\n",
    "We have N data points and c parameters, so we have d = N - c <em>degrees of freedom</em>.<br> \n",
    "We define the following:\n",
    "\n",
    "\\begin{equation}\n",
    "    \\tilde{\\chi}^2 =\\frac{\\chi^2}{d},\n",
    "    \\tag{6}\n",
    "\\end{equation}\n",
    "\n",
    "$\\tilde{\\chi}^2$ is the reduced $\\chi^2$, it includes the effect of the degrees of freedom of the model. The value of $\\tilde{\\chi}^2$ is a measure of the deviation<br> \n",
    "between the data and the model.<br>\n",
    "\n",
    "For a more general discussion about the significance and applicability of $\\tilde{\\chi}^2$ I refer to chapter 12 in An Introduction to Error Analysis by John R. Taylor."
   ]
  },
  {
   "cell_type": "code",
   "execution_count": 10,
   "metadata": {},
   "outputs": [
    {
     "name": "stdout",
     "output_type": "stream",
     "text": [
      "chi-squared = 60.3651\n",
      "df = 47\n",
      "Reduced chi-squared = 1.2844\n"
     ]
    }
   ],
   "source": [
    "chisq = np.sum(((x-sinus_model(t,*popt))/xerr)**2)\n",
    "d = len(x) - len(popt)\n",
    "red_chisq = chisq/d\n",
    "print(\"chi-squared = %.4f\" % chisq)\n",
    "print(\"df = %d\" % d)\n",
    "print(\"Reduced chi-squared = %.4f\" % red_chisq)"
   ]
  },
  {
   "cell_type": "markdown",
   "metadata": {},
   "source": [
    "##  Optional: Confidence Intervals <a id='confidenceintervals'></a>"
   ]
  },
  {
   "cell_type": "markdown",
   "metadata": {},
   "source": [
    "In the previous sections we calculated the optimal parameters, the errors on the optimal parameters and the $\\tilde{\\chi}^2$ value.<br>\n",
    "Our model consists of 4 parameters and the error on the optimal parameter:<br>\n",
    "\n",
    "* The optimal value for  $A$ (m) is: 2.0137 ± 0.045014\n",
    "* The optimal value for  $\\gamma$ (1/s) is: 0.2087 ± 0.011162\n",
    "* The optimal value for  $\\omega$ (rad/s) is: 2.9943 ± 0.010095\n",
    "* The optimal value for  $\\phi$ (rad) is: 0.0010 ± 0.018336\n",
    "\n",
    "Now we can ask ourself the question: how likely is it that my datapoint falls within n-standard deviations of my curve.<br>\n",
    "\n",
    "We answer this question by constructing confidence intervals (C.I.) around the optimal fit. \n",
    "\n",
    "The C.I. is defined as, \n",
    "\\begin{align*}\n",
    "    Pr(\\mu-1\\sigma\\le X \\le \\mu +1\\sigma)\\approx 68.27 \\%, \\\\\n",
    "    Pr(\\mu-3\\sigma\\le X \\le \\mu +3\\sigma)\\approx 99.73 \\%, \\\\\n",
    "    Pr(\\mu-n\\sigma \\le X \\le \\mu + n\\sigma ) = erf(x/\\sqrt{2}).\\\\\n",
    "\\end{align*}\n",
    "The C.I. tells us how likely it is that our observation $X$ is found within the interval,<br> \n",
    "with $\\mu$ the mean of the distribution $X$ and $\\sigma$ the standard deviation of the distribution $X$.\n",
    "\n",
    "We have 4 parameters, each with it's own deviation, constructing the C.I. is not trivial.<br>\n",
    "For example, a (positive) deviation (from the mean) of the Amplitude can be mitigated by a (positive) deviation<br>\n",
    "of the damping $\\gamma$ term. \n",
    "\n",
    "However, the overall effect is a mean all parameters, we cannot simply add each individual contribution. <br>\n",
    "To calculate the mean response and the C.I. we use a Monte-Carlo technique.<br>\n",
    "We use repeated Gaussian sampling of the parameters to obtain a statistical mean response (the optimal fit)<br>\n",
    "and we calculate the C.I. by the standard deviation of the mean response.\n",
    "\n",
    " * Line 4-7: Random sampling around the optimal parameters.\n",
    "\n",
    " * Line 8-11: Evaluate the model response of the random parameters 'ydata_random'. <br>\n",
    " \n",
    "Thus, ydata_random contains 1000 curves.<br> \n",
    "Each curve has a (random) unique set of parameters around the optimal value. The mean of ydata_random is the optimal fit.<br>\n",
    "The standard deviation (at each data point) of ydata_random is $\\sigma$, this is the boundary of the C.I.  "
   ]
  },
  {
   "cell_type": "code",
   "execution_count": 20,
   "metadata": {},
   "outputs": [],
   "source": [
    "import matplotlib.gridspec as gridspec\n",
    "import scipy.stats as st\n",
    "\n",
    "popt0 = popt[0]+np.random.normal(0,1,size=1000)*np.sqrt(np.diag(pcov))[0]\n",
    "popt1 = popt[1]+np.random.normal(0,1,size=1000)*np.sqrt(np.diag(pcov))[1]\n",
    "popt2 = popt[2]+np.random.normal(0,1,size=1000)*np.sqrt(np.diag(pcov))[2]\n",
    "popt3 = popt[3]+np.random.normal(0,1,size=1000)*np.sqrt(np.diag(pcov))[3]\n",
    "ylist =[]\n",
    "for i in range(0,1000,1):\n",
    "    ydata_random = sinus_model(tfit,popt0[i],popt1[i],popt2[i],popt3[i])\n",
    "    ylist.append(ydata_random)\n",
    "    \n",
    "fig = plt.figure(figsize=(8,8))\n",
    "gs = gridspec.GridSpec(4, 4) #Creates a grid of 6 rows and 4 columns.\n",
    "axes_main = plt.subplot(gs[1:4, :4]) #Main axis goes from row 1 to 6.\n",
    "axes_residuals = plt.subplot(gs[0, :4],sharex=axes_main) #Residual axis is row 0.\n",
    "\n",
    "axes_main.tick_params(axis='both',direction ='in',labelsize=12)\n",
    "axes_main.errorbar(t,x,xerr=terr,yerr=xerr,fmt='none',ecolor='black',capsize=4,elinewidth=1, marker = 's',zorder=5) #fmt, ecolor and capsize can be personalized.\n",
    "axes_main.plot(tfit,sinus_model(tfit,*popt),color='darkorange',ls='-', lw=2,zorder =5)\n",
    "\n",
    "axes_main.fill_between(tfit,np.mean(ylist,axis=0)+3*np.std(ylist,axis=0),np.mean(ylist,axis=0)-3*np.std(ylist,axis=0),color='darkgray')\n",
    "axes_main.fill_between(tfit,np.mean(ylist,axis=0)+1*np.std(ylist,axis=0),np.mean(ylist,axis=0)-1*np.std(ylist,axis=0),color='white')\n",
    "axes_main.set_xlabel('Time (s)',fontsize=16)\n",
    "axes_main.set_ylabel('x-position (m)',fontsize=16)\n",
    "axes_main.set_xlim(0,10)\n",
    "\n",
    "axes_residuals.errorbar(t,x-sinus_model(t,*popt),xerr=terr,yerr=xerr,\n",
    "                        fmt='none',ecolor='black',capsize=4,elinewidth=1) #fmt, ecolor and capsize can be personalized.\n",
    "# axes_residuals.hlines(0,np.min(t),np.max(t),color='black')\n",
    "\n",
    "axes_residuals.tick_params(axis='both',direction ='in',labelsize=12)\n",
    "axes_residuals.set_title('Confidence intervals',fontsize=18)\n",
    "axes_residuals.set_ylabel(r'$\\epsilon$ (m)',fontsize=16)\n",
    "axes_residuals.set_xlim(0,10)\n",
    "\n",
    "# plt.tight_layout()\n",
    "# plt.show()\n",
    "plt.close()\n"
   ]
  },
  {
   "cell_type": "markdown",
   "metadata": {},
   "source": [
    "# Example: fit data using lmfit <a id='lmfit'></a>"
   ]
  },
  {
   "cell_type": "markdown",
   "metadata": {},
   "source": [
    "We can also use a package called 'lmfit' to fit our data to a model. On the canvas page there is an extensive document<br>\n",
    "that guides you through the process of fitting using lmfit, for questions please visit the canvas page.<br>\n",
    "\n",
    "\n",
    "In the code below you find a minimum working example using lmfit:<br>\n",
    "\n",
    "* Line 4: define model using $\\lambda$ function.\n",
    "\n",
    "* Line 7: Initialize model parameters system parameters $(p_0)$.\n",
    "\n",
    "* Line 10: Provide bound to e.g. amplitude parameter.\n",
    "\n",
    " * Line 13: Apply fit.\n"
   ]
  },
  {
   "cell_type": "code",
   "execution_count": 21,
   "metadata": {},
   "outputs": [],
   "source": [
    "from lmfit import models\n",
    "\n",
    "#Define model:\n",
    "model = models.Model(lambda t, Amplitude, Gamma, Omega,Phi: \n",
    "    Amplitude * np.exp(-Gamma * t) * np.sin(Omega*t+Phi))\n",
    "\n",
    "#Initialize parameters (p0)\n",
    "params = model.make_params(Amplitude=2, Gamma=0.2, Omega=3,Phi=2)\n",
    "\n",
    "#Provide bounds\n",
    "params['Amplitude'].min = 0\n",
    "\n",
    "#Fit data using model.fit\n",
    "fit = model.fit(x, t=t, params=params,weights = 1/xerr)"
   ]
  },
  {
   "cell_type": "markdown",
   "metadata": {},
   "source": [
    "We can show the fit using f.best_fit and show the fit statistics using fit.fit_report().\n",
    "The fit_report() provides the optimal parameters, the error on each parameter and the $\\tilde{\\chi^2}$. "
   ]
  },
  {
   "cell_type": "code",
   "execution_count": 13,
   "metadata": {},
   "outputs": [],
   "source": [
    "fig,axes=plt.subplots(1,1,figsize=(8,4),sharex=True,sharey=True)\n",
    "axes.plot(t, fit.best_fit, color='darkorange',lw=4,zorder =1)#plot fit\n",
    "axes.errorbar(t,x,xerr=terr,yerr=xerr,fmt='none',ecolor='black',capsize=4,elinewidth=1) \n",
    "\n",
    "#plot axis labels and limits\n",
    "axes.set_title('Example fit using Lmfit',fontsize=18)\n",
    "axes.set_xlabel('Time (s)',fontsize=16)\n",
    "axes.set_ylabel('x-position (m)',fontsize=16)\n",
    "axes.set_xlim(0,10)\n",
    "# plt.show()\n",
    "plt.close()\n",
    "#print fit report\n",
    "# print(fit.fit_report())"
   ]
  },
  {
   "cell_type": "markdown",
   "metadata": {},
   "source": [
    "# Your Experiment starts here"
   ]
  },
  {
   "cell_type": "markdown",
   "metadata": {},
   "source": [
    "* Author: Student name.\n",
    "* Date: Date.\n",
    "* About: Your experiment.<br>\n",
    "* TA: \n",
    "\n",
    "Please ask your TA if you need to hand in your code at the end of the practical course."
   ]
  },
  {
   "cell_type": "code",
   "execution_count": null,
   "metadata": {},
   "outputs": [],
   "source": []
  },
  {
   "cell_type": "markdown",
   "metadata": {},
   "source": []
  }
 ],
 "metadata": {
  "kernelspec": {
   "display_name": "Python 3.9.12 ('base')",
   "language": "python",
   "name": "python3"
  },
  "language_info": {
   "codemirror_mode": {
    "name": "ipython",
    "version": 3
   },
   "file_extension": ".py",
   "mimetype": "text/x-python",
   "name": "python",
   "nbconvert_exporter": "python",
   "pygments_lexer": "ipython3",
   "version": "3.9.12"
  },
  "orig_nbformat": 4,
  "vscode": {
   "interpreter": {
    "hash": "990aa1f5b44d8cad0b7cfe89950ec1e8fc5071e2e17430633182dfed41b49ff8"
   }
  }
 },
 "nbformat": 4,
 "nbformat_minor": 2
}
